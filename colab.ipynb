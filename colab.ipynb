{
    "cells": [
        {
            "cell_type": "markdown",
            "metadata": {},
            "source": [
                "# Binary Code Analysis Experiment Debugging"
            ]
        },
        {
            "cell_type": "code",
            "execution_count": null,
            "metadata": {},
            "source": [
                "# Update system and install dependencies\n",
                "!apt-get update\n",
                "!apt-get install -y build-essential gcc clang binutils wget tar gzip\n",
                "!apt-get install -y binutils-multiarch"
            ]
        },
        {
            "cell_type": "code",
            "execution_count": null,
            "metadata": {},
            "source": [
                "# Clone the repository\n",
                "!git clone https://github.com/CedricBone/binary_code_analysis.git"
            ]
        },
        {
            "cell_type": "code",
            "execution_count": null,
            "metadata": {},
            "source": [
                "# Navigate to the test2 directory\n",
                "%cd binary_code_analysis/test2"
            ]
        },
        {
            "cell_type": "code",
            "execution_count": null,
            "metadata": {},
            "source": [
                "# Install Python dependencies\n",
                "!pip install tensorflow scikit-learn seaborn tqdm keras h5py matplotlib pandas numpy"
            ]
        },
        {
            "cell_type": "code",
            "execution_count": null,
            "metadata": {},
            "source": [
                "# Inspect the config and scripts\n",
                "print(\"Contents of config.py:\")\n",
                "!cat config.py\n",
                "\n",
                "print(\"\\nContents of run_experiment.sh:\")\n",
                "!cat run_experiment.sh"
            ]
        },
        {
            "cell_type": "code",
            "execution_count": null,
            "metadata": {},
            "source": [
                "# Modify configuration to reduce complexity and fix potential issues\n",
                "import re\n",
                "\n",
                "# Read the config file\n",
                "with open('config.py', 'r') as f:\n",
                "    config_content = f.read()\n",
                "\n",
                "# Modify configuration\n",
                "modified_config = re.sub(\n",
                "    r'TOTAL_CONFIGS\\s*=\\s*\\d+', \n",
                "    'TOTAL_CONFIGS = 4', \n",
                "    config_content\n",
                ")\n",
                "\n",
                "# Reduce architectures and compilers\n",
                "modified_config = re.sub(\n",
                "    r'ARCHITECTURES\\s*=\\s*\\[.*?\\]', \n",
                "    'ARCHITECTURES = [\"x86_64\"]', \n",
                "    modified_config\n",
                ")\n",
                "\n",
                "modified_config = re.sub(\n",
                "    r'COMPILERS\\s*=\\s*\\[.*?\\]', \n",
                "    'COMPILERS = [\"gcc\"]', \n",
                "    modified_config\n",
                ")\n",
                "\n",
                "# Write modified configuration\n",
                "with open('config.py', 'w') as f:\n",
                "    f.write(modified_config)\n",
                "\n",
                "print(\"Configuration modified\")"
            ]
        },
        {
            "cell_type": "code",
            "execution_count": null,
            "metadata": {},
            "source": [
                "# Make scripts executable\n",
                "!chmod +x run_experiment.sh\n",
                "!chmod +x *.py"
            ]
        },
        {
            "cell_type": "code",
            "execution_count": null,
            "metadata": {},
            "source": [
                "# Debug: Check if we can download and extract a project manually\n",
                "import os\n",
                "import sys\n",
                "sys.path.append('.')\n",
                "\n",
                "from utils import download_project, extract_archive\n",
                "\n",
                "# Try downloading OpenSSL\n",
                "project = {\n",
                "    'name': 'openssl',\n",
                "    'version': '1.1.1p',\n",
                "    'url': 'https://www.openssl.org/source/openssl-1.1.1p.tar.gz'\n",
                "}\n",
                "\n",
                "try:\n",
                "    download_path = download_project(project)\n",
                "    print(f\"Downloaded to: {download_path}\")\n",
                "    \n",
                "    extracted_dir = extract_archive(download_path, 'downloads')\n",
                "    print(f\"Extracted to: {extracted_dir}\")\n",
                "except Exception as e:\n",
                "    print(f\"Error: {e}\")"
            ]
        },
        {
            "cell_type": "code",
            "execution_count": null,
            "metadata": {},
            "source": [
                "# Run the experiment with input pre-set\n",
                "!echo \"y\" | ./run_experiment.sh"
            ]
        },
        {
            "cell_type": "code",
            "execution_count": null,
            "metadata": {},
            "source": [
                "# Check results and logs\n",
                "!echo \"Contents of build directory:\"\n",
                "!ls -la build/\n",
                "\n",
                "!echo \"\\nContents of downloads directory:\"\n",
                "!ls -la downloads/\n",
                "\n",
                "!echo \"\\nContents of functions directory:\"\n",
                "!ls -la functions/\n",
                "\n",
                "!echo \"\\nContents of logs directory:\"\n",
                "!ls -la logs/\n",
                "\n",
                "# Print any available log files\n",
                "!find . -name \"*.log\" -exec echo \"{}:\" \\; -exec cat {} \\;"
            ]
        }
    ],
    "metadata": {
        "kernelspec": {
            "display_name": "Python 3",
            "language": "python",
            "name": "python3"
        },
        "language_info": {
            "name": "python"
        }
    },
    "nbformat": 4,
    "nbformat_minor": 2
}